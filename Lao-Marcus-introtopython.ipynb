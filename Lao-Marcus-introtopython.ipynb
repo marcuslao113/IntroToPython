{
 "cells": [
  {
   "cell_type": "code",
   "execution_count": 2,
   "metadata": {},
   "outputs": [],
   "source": [
    "#192733\n",
    "#Lao\n",
    "#2 BS ITE"
   ]
  },
  {
   "cell_type": "code",
   "execution_count": 3,
   "metadata": {},
   "outputs": [
    {
     "name": "stdin",
     "output_type": "stream",
     "text": [
      "Enter first number:  1\n",
      "Enter second number:  2\n",
      "Enter third number:  3\n"
     ]
    },
    {
     "name": "stdout",
     "output_type": "stream",
     "text": [
      "The average is 2.0\n"
     ]
    }
   ],
   "source": [
    "counter =1\n",
    "while counter<4:\n",
    "    if counter == 1:\n",
    "        firstnum=int(input(\"Enter first number: \"))\n",
    "        \n",
    "    elif counter == 2:\n",
    "        secondnum=int(input(\"Enter second number: \"))\n",
    "        \n",
    "    elif counter == 3:\n",
    "        thirdnum=int(input(\"Enter third number: \"))\n",
    "        \n",
    "    counter += 1\n",
    "    \n",
    "answer = (firstnum + secondnum + thirdnum)/3\n",
    "\n",
    "print(\"The average is \" + str(answer))\n",
    "        \n",
    "        "
   ]
  },
  {
   "cell_type": "code",
   "execution_count": null,
   "metadata": {},
   "outputs": [],
   "source": []
  }
 ],
 "metadata": {
  "kernelspec": {
   "display_name": "Python 3",
   "language": "python",
   "name": "python3"
  },
  "language_info": {
   "codemirror_mode": {
    "name": "ipython",
    "version": 3
   },
   "file_extension": ".py",
   "mimetype": "text/x-python",
   "name": "python",
   "nbconvert_exporter": "python",
   "pygments_lexer": "ipython3",
   "version": "3.8.3"
  }
 },
 "nbformat": 4,
 "nbformat_minor": 4
}
